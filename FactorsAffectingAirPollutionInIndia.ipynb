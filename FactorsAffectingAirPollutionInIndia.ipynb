{
  "nbformat": 4,
  "nbformat_minor": 0,
  "metadata": {
    "colab": {
      "name": "FactorsAffectingAirPollutionInIndia.ipynb",
      "provenance": [],
      "collapsed_sections": [],
      "include_colab_link": true
    },
    "kernelspec": {
      "name": "python3",
      "display_name": "Python 3"
    },
    "language_info": {
      "name": "python"
    }
  },
  "cells": [
    {
      "cell_type": "markdown",
      "metadata": {
        "id": "view-in-github",
        "colab_type": "text"
      },
      "source": [
        "<a href=\"https://colab.research.google.com/github/ShreeshaVoniyadka/DataScience/blob/main/FactorsAffectingAirPollutionInIndia.ipynb\" target=\"_parent\"><img src=\"https://colab.research.google.com/assets/colab-badge.svg\" alt=\"Open In Colab\"/></a>"
      ]
    },
    {
      "cell_type": "markdown",
      "metadata": {
        "id": "EIUVbpApduz4"
      },
      "source": [
        "------Factors affecting air pollution and its Effects on various factors-----\n",
        "\n",
        "Reference: Kaggle,GitHub,websites\n",
        "\n",
        "GitHub : https://github.com/ShreeshaVoniyadka/DataScience/tree/main"
      ]
    },
    {
      "cell_type": "code",
      "metadata": {
        "id": "lBAm0fgPFFYb",
        "colab": {
          "base_uri": "https://localhost:8080/"
        },
        "outputId": "93d65fb9-6e1a-4b58-8f61-e43b6e0f6c47"
      },
      "source": [
        "import requests\n",
        "import pandas as pd\n",
        "df = pd.read_csv('data.csv',encoding=\"ISO-8859-1\")\n",
        "print(df)\n",
        "url = 'https://raw.githubusercontent.com/ShubhankarRawat/India---Air-Quality-Analysis/master/dataset.csv'\n",
        "res = requests.get(url, allow_redirects=True)\n",
        "with open('air_quality_analysis.csv','wb') as file:\n",
        "    file.write(res.content)\n",
        "df2 = pd.read_csv('air_quality_analysis.csv')"
      ],
      "execution_count": 4,
      "outputs": [
        {
          "output_type": "stream",
          "name": "stderr",
          "text": [
            "/usr/local/lib/python3.7/dist-packages/IPython/core/interactiveshell.py:2718: DtypeWarning: Columns (0) have mixed types.Specify dtype option on import or set low_memory=False.\n",
            "  interactivity=interactivity, compiler=compiler, result=result)\n"
          ]
        },
        {
          "output_type": "stream",
          "name": "stdout",
          "text": [
            "       stn_code       sampling_date  ... pm2_5        date\n",
            "0           150  February - M021990  ...   NaN  1990-02-01\n",
            "1           151  February - M021990  ...   NaN  1990-02-01\n",
            "2           152  February - M021990  ...   NaN  1990-02-01\n",
            "3           150     March - M031990  ...   NaN  1990-03-01\n",
            "4           151     March - M031990  ...   NaN  1990-03-01\n",
            "...         ...                 ...  ...   ...         ...\n",
            "435737     SAMP            24-12-15  ...   NaN  2015-12-24\n",
            "435738     SAMP            29-12-15  ...   NaN  2015-12-29\n",
            "435739      NaN                 NaN  ...   NaN         NaN\n",
            "435740      NaN                 NaN  ...   NaN         NaN\n",
            "435741      NaN                 NaN  ...   NaN         NaN\n",
            "\n",
            "[435742 rows x 13 columns]\n"
          ]
        },
        {
          "output_type": "stream",
          "name": "stderr",
          "text": [
            "/usr/local/lib/python3.7/dist-packages/IPython/core/interactiveshell.py:2718: DtypeWarning: Columns (0) have mixed types.Specify dtype option on import or set low_memory=False.\n",
            "  interactivity=interactivity, compiler=compiler, result=result)\n"
          ]
        }
      ]
    }
  ]
}